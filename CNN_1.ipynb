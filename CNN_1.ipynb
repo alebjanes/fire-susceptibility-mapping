{
  "nbformat": 4,
  "nbformat_minor": 0,
  "metadata": {
    "colab": {
      "name": "CNN_1.ipynb",
      "provenance": [],
      "collapsed_sections": [],
      "include_colab_link": true
    },
    "kernelspec": {
      "name": "python3",
      "display_name": "Python 3"
    },
    "accelerator": "GPU"
  },
  "cells": [
    {
      "cell_type": "markdown",
      "metadata": {
        "id": "view-in-github",
        "colab_type": "text"
      },
      "source": [
        "<a href=\"https://colab.research.google.com/github/alebjanes/fire-susceptibility-mapping/blob/main/CNN_1.ipynb\" target=\"_parent\"><img src=\"https://colab.research.google.com/assets/colab-badge.svg\" alt=\"Open In Colab\"/></a>"
      ]
    },
    {
      "cell_type": "code",
      "metadata": {
        "id": "PMB4CQ2uFH-j"
      },
      "source": [
        "import numpy as np\n",
        "from numpy import load\n",
        "from sklearn.model_selection import train_test_split\n",
        "from tensorflow.keras.models import Sequential\n",
        "from tensorflow.keras.layers import BatchNormalization, Conv2D, MaxPooling2D, Dense, Flatten, Dropout, Activation\n",
        "from tensorflow.keras import regularizers\n",
        "import tensorflow as tf\n",
        "import matplotlib.pyplot as plt\n",
        "%load_ext tensorboard\n",
        "from tensorboard.plugins.hparams import api as hp\n",
        "import logging\n",
        "from sklearn.model_selection import KFold"
      ],
      "execution_count": null,
      "outputs": []
    },
    {
      "cell_type": "code",
      "metadata": {
        "id": "im9zZPy9Fxxp"
      },
      "source": [
        "from google.colab import drive\n",
        "drive.mount('/content/drive')"
      ],
      "execution_count": null,
      "outputs": []
    },
    {
      "cell_type": "code",
      "metadata": {
        "id": "-tY9G_QwF13r"
      },
      "source": [
        "#DATA\n",
        "pixel_size = 25\n",
        "mid_pixel = pixel_size/2 - 0.5\n",
        "\n",
        "Dataset = np.load('/content/drive/My Drive/MT/Samples/samples' + str(pixel_size) + 'x'+ str(pixel_size) +'_v3.npy')\n",
        "\n",
        "X = Dataset[:,:,:,1:21]\n",
        "target = Dataset[:,mid_pixel,mid_pixel,0]\n",
        "y = np.expand_dims(target, axis=1)\n",
        "\n",
        "X_train, X_test, y_train, y_test = train_test_split(X, y, test_size=0.2, random_state=42)"
      ],
      "execution_count": null,
      "outputs": []
    },
    {
      "cell_type": "code",
      "metadata": {
        "id": "HIXv7suvYGlX"
      },
      "source": [
        "X=X_train\n",
        "y=y_train\n",
        "\n",
        "del y_test\n",
        "del X_test\n",
        "del target\n",
        "del X_train\n",
        "del y_train"
      ],
      "execution_count": null,
      "outputs": []
    },
    {
      "cell_type": "code",
      "metadata": {
        "id": "lrFdiT2d-S74"
      },
      "source": [
        "#CV\n",
        "num_folds = 5\n",
        "\n",
        "# Define the K-fold Cross Validator\n",
        "kfold = KFold(n_splits=num_folds, shuffle=True)\n",
        "\n",
        "# Define per-fold score containers <-- these are new\n",
        "acc_per_fold = []\n",
        "loss_per_fold = []\n",
        "\n",
        "acc_per_fold_train = []\n",
        "loss_per_fold_train = []"
      ],
      "execution_count": null,
      "outputs": []
    },
    {
      "cell_type": "code",
      "metadata": {
        "id": "rVnznxWvGBwA"
      },
      "source": [
        "#Build CNN function (Zhang et al.)\n",
        "def build_model1(input_shape, batch_normalization, momentum, activation, loss, lr, optimizer):\n",
        "    model = Sequential()\n",
        "    model.add(Conv2D(32, 3, strides = 1, padding = 'same', input_shape = input_shape))\n",
        "    model.add(Activation(activation = activation))\n",
        "    if batch_normalization: \n",
        "        model.add(BatchNormalization(momentum=momentum, scale = False, renorm = True))\n",
        "    model.add(MaxPooling2D((2, 2), strides=(2, 2)))\n",
        "    model.add(Conv2D(64, 3, strides = 1, padding = 'same'))\n",
        "    model.add(Activation(activation = activation))\n",
        "    model.add(MaxPooling2D((2, 2), strides=(2, 2)))\n",
        "    model.add(Conv2D(128, 3, strides = 1, padding = 'same'))\n",
        "    model.add(Activation(activation = activation))\n",
        "    model.add(Flatten())\n",
        "    model.add(Dense(128, activation = activation))\n",
        "    model.add(Dropout(0.5))\n",
        "    model.add(Dense(64, activation = activation))\n",
        "    model.add(Dropout(0.5))\n",
        "    model.add(Dense(32, activation  = activation))\n",
        "    model.add(Dropout(0.5))\n",
        "    if loss == 'binary_crossentropy':\n",
        "        model.add(Dense(1, activation = 'sigmoid'))\n",
        "    elif loss == 'sparse_categorical_crossentropy':\n",
        "        model.add(Dense(2, activation = 'softmax'))  \n",
        "\n",
        "    if optimizer == 'adam':\n",
        "      model.compile(loss=loss, optimizer=tf.keras.optimizers.Adam(learning_rate=lr, beta_1=0.9, beta_2=0.9999, epsilon=1e-07), metrics=['accuracy' \n",
        "                                                                                                                                        #, tf.keras.metrics.AUC()\n",
        "                                                                                                                                        ])\n",
        "    elif optimizer == 'sgd':\n",
        "      model.compile(loss=loss, optimizer=tf.keras.optimizers.SGD(learning_rate=lr, momentum=0.9), metrics=['accuracy'])   \n",
        "\n",
        "    #model.summary()\n",
        "\n",
        "    return model"
      ],
      "execution_count": null,
      "outputs": []
    },
    {
      "cell_type": "code",
      "metadata": {
        "id": "YXADtoEiGCFG"
      },
      "source": [
        "#Callbacks\n",
        "reduce_lr = tf.keras.callbacks.ReduceLROnPlateau(monitor='val_loss', factor=0.9, patience=15, min_lr=0.0001, verbose=1)\n",
        "early_stop = tf.keras.callbacks.EarlyStopping(monitor='val_accuracy', mode='max', verbose=1, patience=100, min_delta=0.01, restore_best_weights=True)"
      ],
      "execution_count": null,
      "outputs": []
    },
    {
      "cell_type": "code",
      "metadata": {
        "id": "Tup0Ofuj-uUc"
      },
      "source": [
        "# K-fold Cross Validation model evaluation\n",
        "fold_no = 1\n",
        "for train, test in kfold.split(X, y):\n",
        "\n",
        "  # Define the model architecture\n",
        "  model = build_model1(input_shape = (5, 5, 20), batch_normalization=True, momentum = 0.99, activation = 'relu', loss='binary_crossentropy', lr = 0.0001, optimizer = 'adam')\n",
        "\n",
        "  # Generate a print\n",
        "  print('------------------------------------------------------------------------')\n",
        "  print(f'Training for fold {fold_no} ...')\n",
        "\n",
        "  # Fit data to model\n",
        "  history = model.fit(X[train], y[train],\n",
        "              batch_size=32,\n",
        "              epochs=200,\n",
        "              callbacks=[reduce_lr, early_stop],\n",
        "              validation_data = (X[test], y[test]), verbose=0)\n",
        "  \n",
        "  # Generate generalization metrics on VALIDATION\n",
        "  scores = model.evaluate(X[test], y[test], verbose=0)\n",
        "  print(f'Score for fold {fold_no}: {model.metrics_names[0]} of {scores[0]}; {model.metrics_names[1]} of {scores[1]*100}%')\n",
        "  acc_per_fold.append(scores[1] * 100)\n",
        "  loss_per_fold.append(scores[0])\n",
        "\n",
        "  # Generate generalization metrics on TRAINING\n",
        "  scores_train = model.evaluate(X[train], y[train], verbose=0)\n",
        "  print(f'Score for fold {fold_no}: {model.metrics_names[0]} of {scores_train[0]}; {model.metrics_names[1]} of {scores_train[1]*100}%')\n",
        "  acc_per_fold_train.append(scores_train[1] * 100)\n",
        "  loss_per_fold_train.append(scores_train[0])\n",
        "\n",
        "  # Increase fold number\n",
        "  fold_no = fold_no + 1\n",
        "\n",
        "\n",
        "  # == Provide average scores ==\n",
        "print('------------------------------------------------------------------------')\n",
        "print('Score per fold on validation set')\n",
        "for i in range(0, len(acc_per_fold)):\n",
        "  print('------------------------------------------------------------------------')\n",
        "  print(f'> Fold {i+1} - Loss: {loss_per_fold[i]} - Accuracy: {acc_per_fold[i]}%')\n",
        "print('------------------------------------------------------------------------')\n",
        "print('Average scores for all folds:')\n",
        "print(f'> Accuracy: {np.mean(acc_per_fold)} (+- {np.std(acc_per_fold)})')\n",
        "print(f'> Loss: {np.mean(loss_per_fold)}')\n",
        "print('------------------------------------------------------------------------')\n",
        "\n",
        "\n",
        "print('------------------------------------------------------------------------')\n",
        "print('Score per fold on training set')\n",
        "for i in range(0, len(acc_per_fold_train)):\n",
        "  print('------------------------------------------------------------------------')\n",
        "  print(f'> Fold {i+1} - Loss: {loss_per_fold_train[i]} - Accuracy: {acc_per_fold_train[i]}%')\n",
        "print('------------------------------------------------------------------------')\n",
        "print('Average scores for all folds:')\n",
        "print(f'> Accuracy: {np.mean(acc_per_fold_train)} (+- {np.std(acc_per_fold_train)})')\n",
        "print(f'> Loss: {np.mean(loss_per_fold_train)}')\n",
        "print('------------------------------------------------------------------------')"
      ],
      "execution_count": null,
      "outputs": []
    },
    {
      "cell_type": "code",
      "metadata": {
        "id": "F7TizU-e_rUD"
      },
      "source": [
        "modelcnn.save('/content/drive/My Drive/MT/checkpoints/CNN1/CNN1_25')"
      ],
      "execution_count": null,
      "outputs": []
    }
  ]
}